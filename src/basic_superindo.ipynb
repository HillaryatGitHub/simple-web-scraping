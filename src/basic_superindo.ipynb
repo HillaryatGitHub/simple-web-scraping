{
 "cells": [
  {
   "cell_type": "code",
   "execution_count": 1,
   "id": "fc631093",
   "metadata": {},
   "outputs": [],
   "source": [
    "from bs4 import BeautifulSoup\n",
    "import requests\n",
    "import pandas as pd"
   ]
  },
  {
   "cell_type": "code",
   "execution_count": 2,
   "id": "16775da7",
   "metadata": {},
   "outputs": [],
   "source": [
    "link = 'https://www.superindo.co.id/hubungi-kami/lokasi-superindo'\n",
    "request = requests.get(link)\n",
    "content = request.content"
   ]
  },
  {
   "cell_type": "code",
   "execution_count": 3,
   "id": "5c67cf5d",
   "metadata": {},
   "outputs": [],
   "source": [
    "soup = BeautifulSoup(content,\"html.parser\") \n",
    "#print(soup)"
   ]
  },
  {
   "cell_type": "code",
   "execution_count": 4,
   "id": "d7475f3e",
   "metadata": {},
   "outputs": [],
   "source": [
    "cabang = soup.find_all(\"p\",{\"class\": \"standar-font\"})\n",
    "#print(cabang)"
   ]
  },
  {
   "cell_type": "code",
   "execution_count": 5,
   "id": "2c417624",
   "metadata": {},
   "outputs": [],
   "source": [
    "df = pd.DataFrame(cabang, columns=['Toko'])"
   ]
  },
  {
   "cell_type": "code",
   "execution_count": 6,
   "id": "1ba08c52",
   "metadata": {},
   "outputs": [
    {
     "data": {
      "text/html": [
       "<div>\n",
       "<style scoped>\n",
       "    .dataframe tbody tr th:only-of-type {\n",
       "        vertical-align: middle;\n",
       "    }\n",
       "\n",
       "    .dataframe tbody tr th {\n",
       "        vertical-align: top;\n",
       "    }\n",
       "\n",
       "    .dataframe thead th {\n",
       "        text-align: right;\n",
       "    }\n",
       "</style>\n",
       "<table border=\"1\" class=\"dataframe\">\n",
       "  <thead>\n",
       "    <tr style=\"text-align: right;\">\n",
       "      <th></th>\n",
       "      <th>Toko</th>\n",
       "    </tr>\n",
       "  </thead>\n",
       "  <tbody>\n",
       "    <tr>\n",
       "      <th>0</th>\n",
       "      <td>Super Indo Cirendeu</td>\n",
       "    </tr>\n",
       "    <tr>\n",
       "      <th>1</th>\n",
       "      <td>Jl. Cirendeu Raya No. 20 Pondok Cabe Jakarta S...</td>\n",
       "    </tr>\n",
       "    <tr>\n",
       "      <th>2</th>\n",
       "      <td>Tel 741 7041 / 741 7925</td>\n",
       "    </tr>\n",
       "    <tr>\n",
       "      <th>3</th>\n",
       "      <td>Super Indo Cinere</td>\n",
       "    </tr>\n",
       "    <tr>\n",
       "      <th>4</th>\n",
       "      <td>Cinere Mall, JL.Cinere Raya Jakarta Selatan</td>\n",
       "    </tr>\n",
       "    <tr>\n",
       "      <th>5</th>\n",
       "      <td>Tel 753 5401/ 753 5388 - 89</td>\n",
       "    </tr>\n",
       "    <tr>\n",
       "      <th>6</th>\n",
       "      <td>Super Indo Mampang</td>\n",
       "    </tr>\n",
       "    <tr>\n",
       "      <th>7</th>\n",
       "      <td>Warung Buncit City Point, Jl. Mampang Prapatan...</td>\n",
       "    </tr>\n",
       "    <tr>\n",
       "      <th>8</th>\n",
       "      <td>Tel 794 6253 / 794 5909</td>\n",
       "    </tr>\n",
       "    <tr>\n",
       "      <th>9</th>\n",
       "      <td>Super Indo Pancoran</td>\n",
       "    </tr>\n",
       "  </tbody>\n",
       "</table>\n",
       "</div>"
      ],
      "text/plain": [
       "                                                Toko\n",
       "0                                Super Indo Cirendeu\n",
       "1  Jl. Cirendeu Raya No. 20 Pondok Cabe Jakarta S...\n",
       "2                           Tel 741 7041 / 741 7925 \n",
       "3                                  Super Indo Cinere\n",
       "4        Cinere Mall, JL.Cinere Raya Jakarta Selatan\n",
       "5                        Tel 753 5401/ 753 5388 - 89\n",
       "6                                 Super Indo Mampang\n",
       "7  Warung Buncit City Point, Jl. Mampang Prapatan...\n",
       "8                            Tel 794 6253 / 794 5909\n",
       "9                                Super Indo Pancoran"
      ]
     },
     "execution_count": 6,
     "metadata": {},
     "output_type": "execute_result"
    }
   ],
   "source": [
    "df.head(10)"
   ]
  },
  {
   "cell_type": "code",
   "execution_count": 7,
   "id": "de15429c",
   "metadata": {},
   "outputs": [
    {
     "data": {
      "text/plain": [
       "(1374, 1)"
      ]
     },
     "execution_count": 7,
     "metadata": {},
     "output_type": "execute_result"
    }
   ],
   "source": [
    "df.shape"
   ]
  },
  {
   "cell_type": "code",
   "execution_count": 8,
   "id": "2e33400c",
   "metadata": {},
   "outputs": [],
   "source": [
    "outlet = []\n",
    "alamat = []\n",
    "telepon = []\n",
    "count = 0\n",
    "\n",
    "for index in range(len(df)):\n",
    "    count = index % 3\n",
    "    if count == 0: \n",
    "        outlet.append(df[\"Toko\"].loc[index])\n",
    "    if count == 1:\n",
    "        alamat.append(df[\"Toko\"].loc[index])\n",
    "    if count == 2:\n",
    "        telepon.append(df[\"Toko\"].loc[index])"
   ]
  },
  {
   "cell_type": "code",
   "execution_count": 9,
   "id": "4616bf11",
   "metadata": {},
   "outputs": [
    {
     "data": {
      "text/html": [
       "<div>\n",
       "<style scoped>\n",
       "    .dataframe tbody tr th:only-of-type {\n",
       "        vertical-align: middle;\n",
       "    }\n",
       "\n",
       "    .dataframe tbody tr th {\n",
       "        vertical-align: top;\n",
       "    }\n",
       "\n",
       "    .dataframe thead th {\n",
       "        text-align: right;\n",
       "    }\n",
       "</style>\n",
       "<table border=\"1\" class=\"dataframe\">\n",
       "  <thead>\n",
       "    <tr style=\"text-align: right;\">\n",
       "      <th></th>\n",
       "      <th>Toko</th>\n",
       "      <th>Alamat</th>\n",
       "      <th>Telepon</th>\n",
       "    </tr>\n",
       "  </thead>\n",
       "  <tbody>\n",
       "    <tr>\n",
       "      <th>0</th>\n",
       "      <td>Super Indo Cirendeu</td>\n",
       "      <td>Jl. Cirendeu Raya No. 20 Pondok Cabe Jakarta S...</td>\n",
       "      <td>Tel 741 7041 / 741 7925</td>\n",
       "    </tr>\n",
       "    <tr>\n",
       "      <th>1</th>\n",
       "      <td>Super Indo Cinere</td>\n",
       "      <td>Cinere Mall, JL.Cinere Raya Jakarta Selatan</td>\n",
       "      <td>Tel 753 5401/ 753 5388 - 89</td>\n",
       "    </tr>\n",
       "    <tr>\n",
       "      <th>2</th>\n",
       "      <td>Super Indo Mampang</td>\n",
       "      <td>Warung Buncit City Point, Jl. Mampang Prapatan...</td>\n",
       "      <td>Tel 794 6253 / 794 5909</td>\n",
       "    </tr>\n",
       "    <tr>\n",
       "      <th>3</th>\n",
       "      <td>Super Indo Pancoran</td>\n",
       "      <td>Jl. MT Haryono no.1 Pancoran Jak-Sel</td>\n",
       "      <td>Tel 837 00321 / 837 00633</td>\n",
       "    </tr>\n",
       "    <tr>\n",
       "      <th>4</th>\n",
       "      <td>Super Indo Kosambi</td>\n",
       "      <td>Jl.Raya Duri Kosambi No.38 Jakarta Barat</td>\n",
       "      <td>Tel 543 901 79</td>\n",
       "    </tr>\n",
       "  </tbody>\n",
       "</table>\n",
       "</div>"
      ],
      "text/plain": [
       "                  Toko                                             Alamat  \\\n",
       "0  Super Indo Cirendeu  Jl. Cirendeu Raya No. 20 Pondok Cabe Jakarta S...   \n",
       "1    Super Indo Cinere        Cinere Mall, JL.Cinere Raya Jakarta Selatan   \n",
       "2   Super Indo Mampang  Warung Buncit City Point, Jl. Mampang Prapatan...   \n",
       "3  Super Indo Pancoran               Jl. MT Haryono no.1 Pancoran Jak-Sel   \n",
       "4   Super Indo Kosambi           Jl.Raya Duri Kosambi No.38 Jakarta Barat   \n",
       "\n",
       "                       Telepon  \n",
       "0     Tel 741 7041 / 741 7925   \n",
       "1  Tel 753 5401/ 753 5388 - 89  \n",
       "2      Tel 794 6253 / 794 5909  \n",
       "3    Tel 837 00321 / 837 00633  \n",
       "4               Tel 543 901 79  "
      ]
     },
     "execution_count": 9,
     "metadata": {},
     "output_type": "execute_result"
    }
   ],
   "source": [
    "Data = pd.DataFrame(outlet, columns=['Toko'])\n",
    "Data[\"Alamat\"] = alamat\n",
    "Data[\"Telepon\"] = telepon\n",
    "Data.head()"
   ]
  },
  {
   "cell_type": "code",
   "execution_count": 10,
   "id": "8fbfb446",
   "metadata": {},
   "outputs": [
    {
     "data": {
      "text/plain": [
       "(458, 3)"
      ]
     },
     "execution_count": 10,
     "metadata": {},
     "output_type": "execute_result"
    }
   ],
   "source": [
    "Data.shape"
   ]
  },
  {
   "cell_type": "code",
   "execution_count": 12,
   "id": "f55dffd6",
   "metadata": {},
   "outputs": [],
   "source": [
    "Data.to_csv('Basic_Superindo.csv')"
   ]
  }
 ],
 "metadata": {
  "kernelspec": {
   "display_name": "Python 3 (ipykernel)",
   "language": "python",
   "name": "python3"
  },
  "language_info": {
   "codemirror_mode": {
    "name": "ipython",
    "version": 3
   },
   "file_extension": ".py",
   "mimetype": "text/x-python",
   "name": "python",
   "nbconvert_exporter": "python",
   "pygments_lexer": "ipython3",
   "version": "3.10.9"
  }
 },
 "nbformat": 4,
 "nbformat_minor": 5
}
